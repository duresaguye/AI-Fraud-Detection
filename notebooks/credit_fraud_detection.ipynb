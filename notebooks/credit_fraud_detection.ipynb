{
  "nbformat": 4,
  "nbformat_minor": 0,
  "metadata": {
    "colab": {
      "provenance": []
    },
    "kernelspec": {
      "name": "python3",
      "display_name": "Python 3"
    },
    "language_info": {
      "name": "python"
    }
  },
  "cells": [
    {
      "cell_type": "markdown",
      "source": [
        "Import Necessary Libraries"
      ],
      "metadata": {
        "id": "9In6hmXT6bof"
      }
    },
    {
      "cell_type": "code",
      "execution_count": 25,
      "metadata": {
        "colab": {
          "base_uri": "https://localhost:8080/"
        },
        "id": "rQQDLAfJ442t",
        "outputId": "cefed2c4-0beb-4ed9-fbd0-f3f498ee0d3d"
      },
      "outputs": [
        {
          "output_type": "stream",
          "name": "stdout",
          "text": [
            "Requirement already satisfied: mlflow in /usr/local/lib/python3.11/dist-packages (2.20.1)\n",
            "Requirement already satisfied: mlflow-skinny==2.20.1 in /usr/local/lib/python3.11/dist-packages (from mlflow) (2.20.1)\n",
            "Requirement already satisfied: Flask<4 in /usr/local/lib/python3.11/dist-packages (from mlflow) (3.1.0)\n",
            "Requirement already satisfied: Jinja2<4,>=2.11 in /usr/local/lib/python3.11/dist-packages (from mlflow) (3.1.5)\n",
            "Requirement already satisfied: alembic!=1.10.0,<2 in /usr/local/lib/python3.11/dist-packages (from mlflow) (1.14.1)\n",
            "Requirement already satisfied: docker<8,>=4.0.0 in /usr/local/lib/python3.11/dist-packages (from mlflow) (7.1.0)\n",
            "Requirement already satisfied: graphene<4 in /usr/local/lib/python3.11/dist-packages (from mlflow) (3.4.3)\n",
            "Requirement already satisfied: gunicorn<24 in /usr/local/lib/python3.11/dist-packages (from mlflow) (23.0.0)\n",
            "Requirement already satisfied: markdown<4,>=3.3 in /usr/local/lib/python3.11/dist-packages (from mlflow) (3.7)\n",
            "Requirement already satisfied: matplotlib<4 in /usr/local/lib/python3.11/dist-packages (from mlflow) (3.10.0)\n",
            "Requirement already satisfied: numpy<3 in /usr/local/lib/python3.11/dist-packages (from mlflow) (1.26.4)\n",
            "Requirement already satisfied: pandas<3 in /usr/local/lib/python3.11/dist-packages (from mlflow) (2.2.2)\n",
            "Requirement already satisfied: pyarrow<19,>=4.0.0 in /usr/local/lib/python3.11/dist-packages (from mlflow) (17.0.0)\n",
            "Requirement already satisfied: scikit-learn<2 in /usr/local/lib/python3.11/dist-packages (from mlflow) (1.6.1)\n",
            "Requirement already satisfied: scipy<2 in /usr/local/lib/python3.11/dist-packages (from mlflow) (1.13.1)\n",
            "Requirement already satisfied: sqlalchemy<3,>=1.4.0 in /usr/local/lib/python3.11/dist-packages (from mlflow) (2.0.37)\n",
            "Requirement already satisfied: cachetools<6,>=5.0.0 in /usr/local/lib/python3.11/dist-packages (from mlflow-skinny==2.20.1->mlflow) (5.5.1)\n",
            "Requirement already satisfied: click<9,>=7.0 in /usr/local/lib/python3.11/dist-packages (from mlflow-skinny==2.20.1->mlflow) (8.1.8)\n",
            "Requirement already satisfied: cloudpickle<4 in /usr/local/lib/python3.11/dist-packages (from mlflow-skinny==2.20.1->mlflow) (3.1.1)\n",
            "Requirement already satisfied: databricks-sdk<1,>=0.20.0 in /usr/local/lib/python3.11/dist-packages (from mlflow-skinny==2.20.1->mlflow) (0.43.0)\n",
            "Requirement already satisfied: gitpython<4,>=3.1.9 in /usr/local/lib/python3.11/dist-packages (from mlflow-skinny==2.20.1->mlflow) (3.1.44)\n",
            "Requirement already satisfied: importlib_metadata!=4.7.0,<9,>=3.7.0 in /usr/local/lib/python3.11/dist-packages (from mlflow-skinny==2.20.1->mlflow) (8.6.1)\n",
            "Requirement already satisfied: opentelemetry-api<3,>=1.9.0 in /usr/local/lib/python3.11/dist-packages (from mlflow-skinny==2.20.1->mlflow) (1.16.0)\n",
            "Requirement already satisfied: opentelemetry-sdk<3,>=1.9.0 in /usr/local/lib/python3.11/dist-packages (from mlflow-skinny==2.20.1->mlflow) (1.16.0)\n",
            "Requirement already satisfied: packaging<25 in /usr/local/lib/python3.11/dist-packages (from mlflow-skinny==2.20.1->mlflow) (24.2)\n",
            "Requirement already satisfied: protobuf<6,>=3.12.0 in /usr/local/lib/python3.11/dist-packages (from mlflow-skinny==2.20.1->mlflow) (4.25.6)\n",
            "Requirement already satisfied: pydantic<3,>=1.0 in /usr/local/lib/python3.11/dist-packages (from mlflow-skinny==2.20.1->mlflow) (2.10.6)\n",
            "Requirement already satisfied: pyyaml<7,>=5.1 in /usr/local/lib/python3.11/dist-packages (from mlflow-skinny==2.20.1->mlflow) (6.0.2)\n",
            "Requirement already satisfied: requests<3,>=2.17.3 in /usr/local/lib/python3.11/dist-packages (from mlflow-skinny==2.20.1->mlflow) (2.32.3)\n",
            "Requirement already satisfied: sqlparse<1,>=0.4.0 in /usr/local/lib/python3.11/dist-packages (from mlflow-skinny==2.20.1->mlflow) (0.5.3)\n",
            "Requirement already satisfied: typing-extensions<5,>=4.0.0 in /usr/local/lib/python3.11/dist-packages (from mlflow-skinny==2.20.1->mlflow) (4.12.2)\n",
            "Requirement already satisfied: Mako in /usr/local/lib/python3.11/dist-packages (from alembic!=1.10.0,<2->mlflow) (1.3.9)\n",
            "Requirement already satisfied: urllib3>=1.26.0 in /usr/local/lib/python3.11/dist-packages (from docker<8,>=4.0.0->mlflow) (2.3.0)\n",
            "Requirement already satisfied: Werkzeug>=3.1 in /usr/local/lib/python3.11/dist-packages (from Flask<4->mlflow) (3.1.3)\n",
            "Requirement already satisfied: itsdangerous>=2.2 in /usr/local/lib/python3.11/dist-packages (from Flask<4->mlflow) (2.2.0)\n",
            "Requirement already satisfied: blinker>=1.9 in /usr/local/lib/python3.11/dist-packages (from Flask<4->mlflow) (1.9.0)\n",
            "Requirement already satisfied: graphql-core<3.3,>=3.1 in /usr/local/lib/python3.11/dist-packages (from graphene<4->mlflow) (3.2.6)\n",
            "Requirement already satisfied: graphql-relay<3.3,>=3.1 in /usr/local/lib/python3.11/dist-packages (from graphene<4->mlflow) (3.2.0)\n",
            "Requirement already satisfied: python-dateutil<3,>=2.7.0 in /usr/local/lib/python3.11/dist-packages (from graphene<4->mlflow) (2.8.2)\n",
            "Requirement already satisfied: MarkupSafe>=2.0 in /usr/local/lib/python3.11/dist-packages (from Jinja2<4,>=2.11->mlflow) (3.0.2)\n",
            "Requirement already satisfied: contourpy>=1.0.1 in /usr/local/lib/python3.11/dist-packages (from matplotlib<4->mlflow) (1.3.1)\n",
            "Requirement already satisfied: cycler>=0.10 in /usr/local/lib/python3.11/dist-packages (from matplotlib<4->mlflow) (0.12.1)\n",
            "Requirement already satisfied: fonttools>=4.22.0 in /usr/local/lib/python3.11/dist-packages (from matplotlib<4->mlflow) (4.55.8)\n",
            "Requirement already satisfied: kiwisolver>=1.3.1 in /usr/local/lib/python3.11/dist-packages (from matplotlib<4->mlflow) (1.4.8)\n",
            "Requirement already satisfied: pillow>=8 in /usr/local/lib/python3.11/dist-packages (from matplotlib<4->mlflow) (11.1.0)\n",
            "Requirement already satisfied: pyparsing>=2.3.1 in /usr/local/lib/python3.11/dist-packages (from matplotlib<4->mlflow) (3.2.1)\n",
            "Requirement already satisfied: pytz>=2020.1 in /usr/local/lib/python3.11/dist-packages (from pandas<3->mlflow) (2025.1)\n",
            "Requirement already satisfied: tzdata>=2022.7 in /usr/local/lib/python3.11/dist-packages (from pandas<3->mlflow) (2025.1)\n",
            "Requirement already satisfied: joblib>=1.2.0 in /usr/local/lib/python3.11/dist-packages (from scikit-learn<2->mlflow) (1.4.2)\n",
            "Requirement already satisfied: threadpoolctl>=3.1.0 in /usr/local/lib/python3.11/dist-packages (from scikit-learn<2->mlflow) (3.5.0)\n",
            "Requirement already satisfied: greenlet!=0.4.17 in /usr/local/lib/python3.11/dist-packages (from sqlalchemy<3,>=1.4.0->mlflow) (3.1.1)\n",
            "Requirement already satisfied: google-auth~=2.0 in /usr/local/lib/python3.11/dist-packages (from databricks-sdk<1,>=0.20.0->mlflow-skinny==2.20.1->mlflow) (2.27.0)\n",
            "Requirement already satisfied: gitdb<5,>=4.0.1 in /usr/local/lib/python3.11/dist-packages (from gitpython<4,>=3.1.9->mlflow-skinny==2.20.1->mlflow) (4.0.12)\n",
            "Requirement already satisfied: zipp>=3.20 in /usr/local/lib/python3.11/dist-packages (from importlib_metadata!=4.7.0,<9,>=3.7.0->mlflow-skinny==2.20.1->mlflow) (3.21.0)\n",
            "Requirement already satisfied: deprecated>=1.2.6 in /usr/local/lib/python3.11/dist-packages (from opentelemetry-api<3,>=1.9.0->mlflow-skinny==2.20.1->mlflow) (1.2.18)\n",
            "Requirement already satisfied: setuptools>=16.0 in /usr/local/lib/python3.11/dist-packages (from opentelemetry-api<3,>=1.9.0->mlflow-skinny==2.20.1->mlflow) (75.1.0)\n",
            "Requirement already satisfied: opentelemetry-semantic-conventions==0.37b0 in /usr/local/lib/python3.11/dist-packages (from opentelemetry-sdk<3,>=1.9.0->mlflow-skinny==2.20.1->mlflow) (0.37b0)\n",
            "Requirement already satisfied: annotated-types>=0.6.0 in /usr/local/lib/python3.11/dist-packages (from pydantic<3,>=1.0->mlflow-skinny==2.20.1->mlflow) (0.7.0)\n",
            "Requirement already satisfied: pydantic-core==2.27.2 in /usr/local/lib/python3.11/dist-packages (from pydantic<3,>=1.0->mlflow-skinny==2.20.1->mlflow) (2.27.2)\n",
            "Requirement already satisfied: six>=1.5 in /usr/local/lib/python3.11/dist-packages (from python-dateutil<3,>=2.7.0->graphene<4->mlflow) (1.17.0)\n",
            "Requirement already satisfied: charset-normalizer<4,>=2 in /usr/local/lib/python3.11/dist-packages (from requests<3,>=2.17.3->mlflow-skinny==2.20.1->mlflow) (3.4.1)\n",
            "Requirement already satisfied: idna<4,>=2.5 in /usr/local/lib/python3.11/dist-packages (from requests<3,>=2.17.3->mlflow-skinny==2.20.1->mlflow) (3.10)\n",
            "Requirement already satisfied: certifi>=2017.4.17 in /usr/local/lib/python3.11/dist-packages (from requests<3,>=2.17.3->mlflow-skinny==2.20.1->mlflow) (2025.1.31)\n",
            "Requirement already satisfied: wrapt<2,>=1.10 in /usr/local/lib/python3.11/dist-packages (from deprecated>=1.2.6->opentelemetry-api<3,>=1.9.0->mlflow-skinny==2.20.1->mlflow) (1.17.2)\n",
            "Requirement already satisfied: smmap<6,>=3.0.1 in /usr/local/lib/python3.11/dist-packages (from gitdb<5,>=4.0.1->gitpython<4,>=3.1.9->mlflow-skinny==2.20.1->mlflow) (5.0.2)\n",
            "Requirement already satisfied: pyasn1-modules>=0.2.1 in /usr/local/lib/python3.11/dist-packages (from google-auth~=2.0->databricks-sdk<1,>=0.20.0->mlflow-skinny==2.20.1->mlflow) (0.4.1)\n",
            "Requirement already satisfied: rsa<5,>=3.1.4 in /usr/local/lib/python3.11/dist-packages (from google-auth~=2.0->databricks-sdk<1,>=0.20.0->mlflow-skinny==2.20.1->mlflow) (4.9)\n",
            "Requirement already satisfied: pyasn1<0.7.0,>=0.4.6 in /usr/local/lib/python3.11/dist-packages (from pyasn1-modules>=0.2.1->google-auth~=2.0->databricks-sdk<1,>=0.20.0->mlflow-skinny==2.20.1->mlflow) (0.6.1)\n"
          ]
        }
      ],
      "source": [
        "# Data Handling & Processing\n",
        "import pandas as pd\n",
        "import numpy as np\n",
        "!pip install mlflow\n",
        "# Data Visualization\n",
        "import matplotlib.pyplot as plt\n",
        "import seaborn as sns\n",
        "\n",
        "# Train-Test Split\n",
        "from sklearn.model_selection import train_test_split\n",
        "\n",
        "# Feature Scaling\n",
        "from sklearn.preprocessing import StandardScaler, MinMaxScaler\n",
        "\n",
        "# Machine Learning Models\n",
        "from sklearn.linear_model import LogisticRegression\n",
        "from sklearn.tree import DecisionTreeClassifier\n",
        "from sklearn.ensemble import RandomForestClassifier, GradientBoostingClassifier\n",
        "from sklearn.neural_network import MLPClassifier\n",
        "from xgboost import XGBClassifier\n",
        "\n",
        "# Deep Learning Models (Neural Networks)\n",
        "import tensorflow as tf\n",
        "from tensorflow import keras\n",
        "from tensorflow.keras.models import Sequential\n",
        "from tensorflow.keras.layers import Dense, Dropout, LSTM, Conv1D, MaxPooling1D, Flatten\n",
        "\n",
        "# Model Evaluation\n",
        "from sklearn.metrics import accuracy_score, precision_score, recall_score, f1_score, confusion_matrix, classification_report\n",
        "\n",
        "# MLOps (Experiment Tracking)\n",
        "import mlflow\n",
        "import mlflow.sklearn\n",
        "\n",
        "# Ignore Warnings\n",
        "import warnings\n",
        "warnings.filterwarnings('ignore')\n"
      ]
    },
    {
      "cell_type": "markdown",
      "source": [
        "load Preprocessed Data"
      ],
      "metadata": {
        "id": "RZrqrlfA7voH"
      }
    },
    {
      "cell_type": "code",
      "source": [
        "# Load your preprocessed datasets (ensure the path is correct)\n",
        "fraud_data = pd.read_csv('/content/Preprocessed_Fraud_Data.csv')\n",
        "creditcard_data = pd.read_csv('/content/Preprocessed_Creditcard_Data.csv')\n",
        "\n",
        "# Optional: Check the first few rows\n",
        "print(fraud_data.head())\n",
        "print(creditcard_data.head())\n"
      ],
      "metadata": {
        "colab": {
          "base_uri": "https://localhost:8080/"
        },
        "id": "6DaSRDq879ds",
        "outputId": "fb0e7288-6751-4407-b9aa-8da447b1db47"
      },
      "execution_count": 3,
      "outputs": [
        {
          "output_type": "stream",
          "name": "stdout",
          "text": [
            "   user_id          signup_time        purchase_time  purchase_value  \\\n",
            "0    22058  2015-02-24 22:55:49  2015-04-18 02:47:11       -0.160204   \n",
            "1   333320  2015-06-07 20:39:50  2015-06-08 01:38:54       -1.142592   \n",
            "2     1359  2015-01-01 18:52:44  2015-01-01 18:52:45       -1.197169   \n",
            "3   150084  2015-04-28 21:13:25  2015-05-04 13:54:50        0.385567   \n",
            "4   221365  2015-07-21 07:09:52  2015-09-09 18:40:53        0.112681   \n",
            "\n",
            "       device_id  source  browser  sex  age       ip_address  class  \\\n",
            "0  QVPSPJUOCKZAR       2        0    1   39   73275836879972      0   \n",
            "1  EOGFQPIZPYXFZ       0        0    0   53  350311387865908      0   \n",
            "2  YSSKYOSJHPPLJ       2        3    1   53  262147382011095      1   \n",
            "3  ATGTXKYKUDUQN       2        4    1   41  384054244391396      0   \n",
            "4  NAUITBZFJKHWW       0        4    1   45  415583117452712      0   \n",
            "\n",
            "   transaction_frequency  transaction_velocity  hour_of_day  day_of_week  \n",
            "0                    0.0                   0.0            2            5  \n",
            "1                    0.0                   0.0            1            0  \n",
            "2                    0.0                   0.0           18            3  \n",
            "3                    0.0                   0.0           13            0  \n",
            "4                    0.0                   0.0           18            2  \n",
            "   Time        V1        V2        V3        V4        V5        V6        V7  \\\n",
            "0   0.0 -1.359807 -0.072781  2.536347  1.378155 -0.338321  0.462388  0.239599   \n",
            "1   0.0  1.191857  0.266151  0.166480  0.448154  0.060018 -0.082361 -0.078803   \n",
            "2   1.0 -1.358354 -1.340163  1.773209  0.379780 -0.503198  1.800499  0.791461   \n",
            "3   1.0 -0.966272 -0.185226  1.792993 -0.863291 -0.010309  1.247203  0.237609   \n",
            "4   2.0 -1.158233  0.877737  1.548718  0.403034 -0.407193  0.095921  0.592941   \n",
            "\n",
            "         V8        V9  ...       V21       V22       V23       V24       V25  \\\n",
            "0  0.098698  0.363787  ... -0.018307  0.277838 -0.110474  0.066928  0.128539   \n",
            "1  0.085102 -0.255425  ... -0.225775 -0.638672  0.101288 -0.339846  0.167170   \n",
            "2  0.247676 -1.514654  ...  0.247998  0.771679  0.909412 -0.689281 -0.327642   \n",
            "3  0.377436 -1.387024  ... -0.108300  0.005274 -0.190321 -1.175575  0.647376   \n",
            "4 -0.270533  0.817739  ... -0.009431  0.798278 -0.137458  0.141267 -0.206010   \n",
            "\n",
            "        V26       V27       V28    Amount  Class  \n",
            "0 -0.189115  0.133558 -0.021053  0.244200      0  \n",
            "1  0.125895 -0.008983  0.014724 -0.342584      0  \n",
            "2 -0.139097 -0.055353 -0.059752  1.158900      0  \n",
            "3 -0.221929  0.062723  0.061458  0.139886      0  \n",
            "4  0.502292  0.219422  0.215153 -0.073813      0  \n",
            "\n",
            "[5 rows x 31 columns]\n"
          ]
        }
      ]
    },
    {
      "cell_type": "markdown",
      "source": [
        " Feature and Target Separation"
      ],
      "metadata": {
        "id": "tU-3KKFH88zf"
      }
    },
    {
      "cell_type": "code",
      "source": [
        "# For Fraud Data\n",
        "X_fraud = fraud_data.drop(columns=['class'])  # All columns except 'class'\n",
        "y_fraud = fraud_data['class']                # The target variable\n",
        "\n",
        "# For Credit Card Data\n",
        "X_creditcard = creditcard_data.drop(columns=['Class'])  # All columns except 'Class'\n",
        "y_creditcard = creditcard_data['Class']                # The target variable\n"
      ],
      "metadata": {
        "id": "X44M2YvJ8nKb"
      },
      "execution_count": 4,
      "outputs": []
    },
    {
      "cell_type": "markdown",
      "source": [
        "Train-Test Split\n",
        "\n"
      ],
      "metadata": {
        "id": "D5fLpsaB9EaX"
      }
    },
    {
      "cell_type": "code",
      "source": [
        "# For Fraud Data\n",
        "X_train_fraud, X_test_fraud, y_train_fraud, y_test_fraud = train_test_split(\n",
        "    X_fraud, y_fraud, test_size=0.2, random_state=42, stratify=y_fraud\n",
        ")\n",
        "\n",
        "# For Credit Card Data\n",
        "X_train_cc, X_test_cc, y_train_cc, y_test_cc = train_test_split(\n",
        "    X_creditcard, y_creditcard, test_size=0.2, random_state=42, stratify=y_creditcard\n",
        ")\n"
      ],
      "metadata": {
        "id": "_sAntYXN9GHy"
      },
      "execution_count": 40,
      "outputs": []
    },
    {
      "cell_type": "markdown",
      "source": [
        " Feature Scaling"
      ],
      "metadata": {
        "id": "T33LV4w59QYh"
      }
    },
    {
      "cell_type": "code",
      "source": [
        "X_train_fraud.info()"
      ],
      "metadata": {
        "colab": {
          "base_uri": "https://localhost:8080/"
        },
        "id": "yVEsskEg97bx",
        "outputId": "b1131f13-eb6a-4dc5-88b7-6f4e2cab95d8"
      },
      "execution_count": 36,
      "outputs": [
        {
          "output_type": "stream",
          "name": "stdout",
          "text": [
            "<class 'pandas.core.frame.DataFrame'>\n",
            "Index: 120889 entries, 50481 to 120195\n",
            "Data columns (total 19 columns):\n",
            " #   Column                 Non-Null Count   Dtype  \n",
            "---  ------                 --------------   -----  \n",
            " 0   user_id                120889 non-null  int64  \n",
            " 1   purchase_value         120889 non-null  float64\n",
            " 2   source                 120889 non-null  int64  \n",
            " 3   browser                120889 non-null  int64  \n",
            " 4   sex                    120889 non-null  int64  \n",
            " 5   age                    120889 non-null  int64  \n",
            " 6   ip_address             120889 non-null  int64  \n",
            " 7   transaction_frequency  120889 non-null  float64\n",
            " 8   transaction_velocity   120889 non-null  float64\n",
            " 9   hour_of_day            120889 non-null  int64  \n",
            " 10  day_of_week            120889 non-null  int64  \n",
            " 11  signup_time_year       120889 non-null  int32  \n",
            " 12  signup_time_month      120889 non-null  int32  \n",
            " 13  signup_time_day        120889 non-null  int32  \n",
            " 14  signup_time_hour       120889 non-null  int32  \n",
            " 15  purchase_time_year     120889 non-null  int32  \n",
            " 16  purchase_time_month    120889 non-null  int32  \n",
            " 17  purchase_time_day      120889 non-null  int32  \n",
            " 18  purchase_time_hour     120889 non-null  int32  \n",
            "dtypes: float64(3), int32(8), int64(8)\n",
            "memory usage: 14.8 MB\n"
          ]
        }
      ]
    },
    {
      "cell_type": "code",
      "source": [
        "scaler = StandardScaler()\n",
        "\n",
        "# For Credit Card Data (scaling both train and test)\n",
        "X_train_cc_scaled = scaler.fit_transform(X_train_cc)\n",
        "X_test_cc_scaled = scaler.transform(X_test_cc)\n",
        "\n"
      ],
      "metadata": {
        "id": "sXIUu6ev9Rp0"
      },
      "execution_count": 37,
      "outputs": []
    },
    {
      "cell_type": "markdown",
      "source": [
        "Model Selection and Training for for Y dataset\n"
      ],
      "metadata": {
        "id": "_GI8ZfgHBkGv"
      }
    },
    {
      "cell_type": "markdown",
      "source": [
        "Logistic Regression (Baseline Model)"
      ],
      "metadata": {
        "id": "G-AinWgGB2I6"
      }
    },
    {
      "cell_type": "code",
      "source": [
        "# Logistic Regression requires scaled data\n",
        "log_reg = LogisticRegression(max_iter=1000)\n",
        "log_reg.fit(X_train_cc_scaled, y_train_cc)\n",
        "\n",
        "# Predict and Evaluate\n",
        "y_pred_lr = log_reg.predict(X_test_cc_scaled)\n",
        "print(\"Logistic Regression Performance (Credit Card Data):\")\n",
        "print(classification_report(y_test_cc, y_pred_lr))\n"
      ],
      "metadata": {
        "colab": {
          "base_uri": "https://localhost:8080/"
        },
        "id": "PKB_ZW1sB3Fu",
        "outputId": "d1002bff-c574-4d3c-ae09-9a8b4d81dda9"
      },
      "execution_count": 38,
      "outputs": [
        {
          "output_type": "stream",
          "name": "stdout",
          "text": [
            "Logistic Regression Performance (Credit Card Data):\n",
            "              precision    recall  f1-score   support\n",
            "\n",
            "           0       1.00      1.00      1.00     56651\n",
            "           1       0.85      0.58      0.69        95\n",
            "\n",
            "    accuracy                           1.00     56746\n",
            "   macro avg       0.92      0.79      0.84     56746\n",
            "weighted avg       1.00      1.00      1.00     56746\n",
            "\n"
          ]
        }
      ]
    },
    {
      "cell_type": "markdown",
      "source": [
        "Decision Tree Classifier\n",
        "\n"
      ],
      "metadata": {
        "id": "4hBACxEeB-Ho"
      }
    },
    {
      "cell_type": "code",
      "source": [
        "dt_model = DecisionTreeClassifier(random_state=42)\n",
        "dt_model.fit(X_train_cc, y_train_cc)\n",
        "\n",
        "y_pred_dt = dt_model.predict(X_test_cc)\n",
        "print(\"Decision Tree Performance (Credit Card Data):\")\n",
        "print(classification_report(y_test_cc, y_pred_dt))\n"
      ],
      "metadata": {
        "colab": {
          "base_uri": "https://localhost:8080/"
        },
        "id": "oBB1ZyJ6B-_M",
        "outputId": "4b530eb3-b944-441d-fb1e-3512b96c852f"
      },
      "execution_count": 22,
      "outputs": [
        {
          "output_type": "stream",
          "name": "stdout",
          "text": [
            "Decision Tree Performance (Credit Card Data):\n",
            "              precision    recall  f1-score   support\n",
            "\n",
            "           0       1.00      1.00      1.00     56651\n",
            "           1       0.72      0.71      0.71        95\n",
            "\n",
            "    accuracy                           1.00     56746\n",
            "   macro avg       0.86      0.85      0.86     56746\n",
            "weighted avg       1.00      1.00      1.00     56746\n",
            "\n"
          ]
        }
      ]
    },
    {
      "cell_type": "markdown",
      "source": [
        "Random Forest Classifier"
      ],
      "metadata": {
        "id": "x-xRt2whCNSK"
      }
    },
    {
      "cell_type": "code",
      "source": [
        "rf_model = RandomForestClassifier(n_estimators=100, random_state=42)\n",
        "rf_model.fit(X_train_cc, y_train_cc)\n",
        "\n",
        "y_pred_rf = rf_model.predict(X_test_cc)\n",
        "print(\"Random Forest Performance (Credit Card Data):\")\n",
        "print(classification_report(y_test_cc, y_pred_rf))\n"
      ],
      "metadata": {
        "colab": {
          "base_uri": "https://localhost:8080/"
        },
        "id": "aL0QdSW7Cjzf",
        "outputId": "d53f130f-6354-4b20-a37a-154959944dc1"
      },
      "execution_count": 23,
      "outputs": [
        {
          "output_type": "stream",
          "name": "stdout",
          "text": [
            "Random Forest Performance (Credit Card Data):\n",
            "              precision    recall  f1-score   support\n",
            "\n",
            "           0       1.00      1.00      1.00     56651\n",
            "           1       0.97      0.73      0.83        95\n",
            "\n",
            "    accuracy                           1.00     56746\n",
            "   macro avg       0.99      0.86      0.92     56746\n",
            "weighted avg       1.00      1.00      1.00     56746\n",
            "\n"
          ]
        }
      ]
    },
    {
      "cell_type": "markdown",
      "source": [
        "Gradient Boosting with XGBoost"
      ],
      "metadata": {
        "id": "6iy5sQOuCpsl"
      }
    },
    {
      "cell_type": "code",
      "source": [
        "!pip install xgboost\n",
        "xgb_model = XGBClassifier(use_label_encoder=False, eval_metric='logloss', random_state=42)\n",
        "xgb_model.fit(X_train_cc, y_train_cc)\n",
        "\n",
        "y_pred_xgb = xgb_model.predict(X_test_cc)\n",
        "print(\"XGBoost Performance (Credit Card Data):\")\n",
        "print(classification_report(y_test_cc, y_pred_xgb))\n"
      ],
      "metadata": {
        "colab": {
          "base_uri": "https://localhost:8080/"
        },
        "id": "RY36hZaBCrBU",
        "outputId": "57031c82-de18-46b1-a4a9-1f70faafa02d"
      },
      "execution_count": 26,
      "outputs": [
        {
          "output_type": "stream",
          "name": "stdout",
          "text": [
            "Requirement already satisfied: xgboost in /usr/local/lib/python3.11/dist-packages (2.1.3)\n",
            "Requirement already satisfied: numpy in /usr/local/lib/python3.11/dist-packages (from xgboost) (1.26.4)\n",
            "Requirement already satisfied: nvidia-nccl-cu12 in /usr/local/lib/python3.11/dist-packages (from xgboost) (2.21.5)\n",
            "Requirement already satisfied: scipy in /usr/local/lib/python3.11/dist-packages (from xgboost) (1.13.1)\n",
            "XGBoost Performance (Credit Card Data):\n",
            "              precision    recall  f1-score   support\n",
            "\n",
            "           0       1.00      1.00      1.00     56651\n",
            "           1       0.96      0.75      0.84        95\n",
            "\n",
            "    accuracy                           1.00     56746\n",
            "   macro avg       0.98      0.87      0.92     56746\n",
            "weighted avg       1.00      1.00      1.00     56746\n",
            "\n"
          ]
        }
      ]
    },
    {
      "cell_type": "markdown",
      "source": [
        "Deep Learning Models"
      ],
      "metadata": {
        "id": "W_bRiZCcHH2b"
      }
    },
    {
      "cell_type": "markdown",
      "source": [
        "Multi-Layer Perceptron (MLP)"
      ],
      "metadata": {
        "id": "yTjR4rGtHI5w"
      }
    },
    {
      "cell_type": "markdown",
      "source": [
        "An MLP is a basic feed-forward neural network suitable for tabular data."
      ],
      "metadata": {
        "id": "U0bSLOGsIksN"
      }
    },
    {
      "cell_type": "code",
      "source": [
        "# Define the MLP Model\n",
        "mlp_model = Sequential([\n",
        "    Dense(64, activation='relu', input_shape=(X_train_cc_scaled.shape[1],)),\n",
        "    Dense(32, activation='relu'),\n",
        "    Dense(1, activation='sigmoid')  # Sigmoid for binary classification\n",
        "])\n",
        "\n",
        "# Compile the model\n",
        "mlp_model.compile(optimizer='adam', loss='binary_crossentropy', metrics=['accuracy'])\n",
        "\n",
        "# Train the model\n",
        "mlp_history = mlp_model.fit(X_train_cc_scaled, y_train_cc,\n",
        "                            epochs=10, batch_size=32,\n",
        "                            validation_data=(X_test_cc_scaled, y_test_cc))\n"
      ],
      "metadata": {
        "colab": {
          "base_uri": "https://localhost:8080/"
        },
        "id": "bh2-bvnzHQDl",
        "outputId": "9d026dbd-bd19-4dc5-b030-91f9be4e87d9"
      },
      "execution_count": 27,
      "outputs": [
        {
          "output_type": "stream",
          "name": "stdout",
          "text": [
            "Epoch 1/10\n",
            "\u001b[1m7094/7094\u001b[0m \u001b[32m━━━━━━━━━━━━━━━━━━━━\u001b[0m\u001b[37m\u001b[0m \u001b[1m20s\u001b[0m 2ms/step - accuracy: 0.9958 - loss: 0.0205 - val_accuracy: 0.9994 - val_loss: 0.0044\n",
            "Epoch 2/10\n",
            "\u001b[1m7094/7094\u001b[0m \u001b[32m━━━━━━━━━━━━━━━━━━━━\u001b[0m\u001b[37m\u001b[0m \u001b[1m17s\u001b[0m 2ms/step - accuracy: 0.9994 - loss: 0.0031 - val_accuracy: 0.9994 - val_loss: 0.0039\n",
            "Epoch 3/10\n",
            "\u001b[1m7094/7094\u001b[0m \u001b[32m━━━━━━━━━━━━━━━━━━━━\u001b[0m\u001b[37m\u001b[0m \u001b[1m21s\u001b[0m 2ms/step - accuracy: 0.9993 - loss: 0.0032 - val_accuracy: 0.9994 - val_loss: 0.0046\n",
            "Epoch 4/10\n",
            "\u001b[1m7094/7094\u001b[0m \u001b[32m━━━━━━━━━━━━━━━━━━━━\u001b[0m\u001b[37m\u001b[0m \u001b[1m21s\u001b[0m 2ms/step - accuracy: 0.9994 - loss: 0.0026 - val_accuracy: 0.9993 - val_loss: 0.0044\n",
            "Epoch 5/10\n",
            "\u001b[1m7094/7094\u001b[0m \u001b[32m━━━━━━━━━━━━━━━━━━━━\u001b[0m\u001b[37m\u001b[0m \u001b[1m18s\u001b[0m 2ms/step - accuracy: 0.9995 - loss: 0.0021 - val_accuracy: 0.9995 - val_loss: 0.0038\n",
            "Epoch 6/10\n",
            "\u001b[1m7094/7094\u001b[0m \u001b[32m━━━━━━━━━━━━━━━━━━━━\u001b[0m\u001b[37m\u001b[0m \u001b[1m23s\u001b[0m 3ms/step - accuracy: 0.9995 - loss: 0.0019 - val_accuracy: 0.9994 - val_loss: 0.0043\n",
            "Epoch 7/10\n",
            "\u001b[1m7094/7094\u001b[0m \u001b[32m━━━━━━━━━━━━━━━━━━━━\u001b[0m\u001b[37m\u001b[0m \u001b[1m36s\u001b[0m 3ms/step - accuracy: 0.9995 - loss: 0.0018 - val_accuracy: 0.9993 - val_loss: 0.0042\n",
            "Epoch 8/10\n",
            "\u001b[1m7094/7094\u001b[0m \u001b[32m━━━━━━━━━━━━━━━━━━━━\u001b[0m\u001b[37m\u001b[0m \u001b[1m21s\u001b[0m 3ms/step - accuracy: 0.9996 - loss: 0.0017 - val_accuracy: 0.9994 - val_loss: 0.0042\n",
            "Epoch 9/10\n",
            "\u001b[1m7094/7094\u001b[0m \u001b[32m━━━━━━━━━━━━━━━━━━━━\u001b[0m\u001b[37m\u001b[0m \u001b[1m41s\u001b[0m 3ms/step - accuracy: 0.9996 - loss: 0.0015 - val_accuracy: 0.9994 - val_loss: 0.0043\n",
            "Epoch 10/10\n",
            "\u001b[1m7094/7094\u001b[0m \u001b[32m━━━━━━━━━━━━━━━━━━━━\u001b[0m\u001b[37m\u001b[0m \u001b[1m41s\u001b[0m 3ms/step - accuracy: 0.9996 - loss: 0.0014 - val_accuracy: 0.9994 - val_loss: 0.0047\n"
          ]
        }
      ]
    },
    {
      "cell_type": "markdown",
      "source": [
        "Convolutional Neural Network (CNN)\n",
        "\n"
      ],
      "metadata": {
        "id": "mHhTC1lFIn5i"
      }
    },
    {
      "cell_type": "markdown",
      "source": [
        "Since CNNs are built for spatial data, we reshape the data so that each feature becomes like a “pixel” in a sequence."
      ],
      "metadata": {
        "id": "H99I6n_DIxZ1"
      }
    },
    {
      "cell_type": "code",
      "source": [
        "# Reshape for CNN: (samples, features, 1)\n",
        "X_train_cc_cnn = X_train_cc_scaled.reshape(X_train_cc_scaled.shape[0], X_train_cc_scaled.shape[1], 1)\n",
        "X_test_cc_cnn = X_test_cc_scaled.reshape(X_test_cc_scaled.shape[0], X_test_cc_scaled.shape[1], 1)\n",
        "\n",
        "# Define the CNN Model\n",
        "cnn_model = Sequential([\n",
        "    Conv1D(32, kernel_size=3, activation='relu', input_shape=(X_train_cc_scaled.shape[1], 1)),\n",
        "    Flatten(),\n",
        "    Dense(32, activation='relu'),\n",
        "    Dense(1, activation='sigmoid')\n",
        "])\n",
        "\n",
        "cnn_model.compile(optimizer='adam', loss='binary_crossentropy', metrics=['accuracy'])\n",
        "\n",
        "cnn_history = cnn_model.fit(X_train_cc_cnn, y_train_cc,\n",
        "                            epochs=10, batch_size=32,\n",
        "                            validation_data=(X_test_cc_cnn, y_test_cc))\n"
      ],
      "metadata": {
        "colab": {
          "base_uri": "https://localhost:8080/"
        },
        "id": "syw5OAn1IpNn",
        "outputId": "f07bbaa5-4e52-4d90-c958-471409e29df0"
      },
      "execution_count": 28,
      "outputs": [
        {
          "output_type": "stream",
          "name": "stdout",
          "text": [
            "Epoch 1/10\n",
            "\u001b[1m7094/7094\u001b[0m \u001b[32m━━━━━━━━━━━━━━━━━━━━\u001b[0m\u001b[37m\u001b[0m \u001b[1m24s\u001b[0m 3ms/step - accuracy: 0.9985 - loss: 0.0122 - val_accuracy: 0.9994 - val_loss: 0.0041\n",
            "Epoch 2/10\n",
            "\u001b[1m7094/7094\u001b[0m \u001b[32m━━━━━━━━━━━━━━━━━━━━\u001b[0m\u001b[37m\u001b[0m \u001b[1m43s\u001b[0m 3ms/step - accuracy: 0.9994 - loss: 0.0028 - val_accuracy: 0.9993 - val_loss: 0.0038\n",
            "Epoch 3/10\n",
            "\u001b[1m7094/7094\u001b[0m \u001b[32m━━━━━━━━━━━━━━━━━━━━\u001b[0m\u001b[37m\u001b[0m \u001b[1m25s\u001b[0m 4ms/step - accuracy: 0.9992 - loss: 0.0030 - val_accuracy: 0.9993 - val_loss: 0.0044\n",
            "Epoch 4/10\n",
            "\u001b[1m7094/7094\u001b[0m \u001b[32m━━━━━━━━━━━━━━━━━━━━\u001b[0m\u001b[37m\u001b[0m \u001b[1m42s\u001b[0m 4ms/step - accuracy: 0.9993 - loss: 0.0034 - val_accuracy: 0.9994 - val_loss: 0.0037\n",
            "Epoch 5/10\n",
            "\u001b[1m7094/7094\u001b[0m \u001b[32m━━━━━━━━━━━━━━━━━━━━\u001b[0m\u001b[37m\u001b[0m \u001b[1m40s\u001b[0m 4ms/step - accuracy: 0.9995 - loss: 0.0028 - val_accuracy: 0.9994 - val_loss: 0.0039\n",
            "Epoch 6/10\n",
            "\u001b[1m7094/7094\u001b[0m \u001b[32m━━━━━━━━━━━━━━━━━━━━\u001b[0m\u001b[37m\u001b[0m \u001b[1m23s\u001b[0m 3ms/step - accuracy: 0.9995 - loss: 0.0023 - val_accuracy: 0.9994 - val_loss: 0.0037\n",
            "Epoch 7/10\n",
            "\u001b[1m7094/7094\u001b[0m \u001b[32m━━━━━━━━━━━━━━━━━━━━\u001b[0m\u001b[37m\u001b[0m \u001b[1m21s\u001b[0m 3ms/step - accuracy: 0.9994 - loss: 0.0028 - val_accuracy: 0.9994 - val_loss: 0.0039\n",
            "Epoch 8/10\n",
            "\u001b[1m7094/7094\u001b[0m \u001b[32m━━━━━━━━━━━━━━━━━━━━\u001b[0m\u001b[37m\u001b[0m \u001b[1m43s\u001b[0m 3ms/step - accuracy: 0.9995 - loss: 0.0029 - val_accuracy: 0.9994 - val_loss: 0.0036\n",
            "Epoch 9/10\n",
            "\u001b[1m7094/7094\u001b[0m \u001b[32m━━━━━━━━━━━━━━━━━━━━\u001b[0m\u001b[37m\u001b[0m \u001b[1m25s\u001b[0m 4ms/step - accuracy: 0.9994 - loss: 0.0030 - val_accuracy: 0.9994 - val_loss: 0.0043\n",
            "Epoch 10/10\n",
            "\u001b[1m7094/7094\u001b[0m \u001b[32m━━━━━━━━━━━━━━━━━━━━\u001b[0m\u001b[37m\u001b[0m \u001b[1m38s\u001b[0m 3ms/step - accuracy: 0.9995 - loss: 0.0025 - val_accuracy: 0.9994 - val_loss: 0.0036\n"
          ]
        }
      ]
    },
    {
      "cell_type": "markdown",
      "source": [
        "Recurrent Neural Network (RNN)\n",
        "\n",
        "RNNs are used for sequential data. We use the same reshaped data as for the CNN."
      ],
      "metadata": {
        "id": "8s8d9n7aKDBN"
      }
    },
    {
      "cell_type": "code",
      "source": [
        "from tensorflow.keras.layers import SimpleRNN\n",
        "\n",
        "rnn_model = Sequential([\n",
        "    SimpleRNN(32, activation='relu', input_shape=(X_train_cc_scaled.shape[1], 1)),\n",
        "    Dense(1, activation='sigmoid')\n",
        "])\n",
        "\n",
        "rnn_model.compile(optimizer='adam', loss='binary_crossentropy', metrics=['accuracy'])\n",
        "\n",
        "rnn_history = rnn_model.fit(X_train_cc_cnn, y_train_cc,\n",
        "                            epochs=10, batch_size=32,\n",
        "                            validation_data=(X_test_cc_cnn, y_test_cc))\n"
      ],
      "metadata": {
        "colab": {
          "base_uri": "https://localhost:8080/"
        },
        "id": "5GYY9eSOKK_S",
        "outputId": "506aee50-c09a-4d32-9db6-d90cc274b2b0"
      },
      "execution_count": 29,
      "outputs": [
        {
          "output_type": "stream",
          "name": "stdout",
          "text": [
            "Epoch 1/10\n",
            "\u001b[1m7094/7094\u001b[0m \u001b[32m━━━━━━━━━━━━━━━━━━━━\u001b[0m\u001b[37m\u001b[0m \u001b[1m52s\u001b[0m 7ms/step - accuracy: 0.9984 - loss: 0.0270 - val_accuracy: 0.9990 - val_loss: 0.0049\n",
            "Epoch 2/10\n",
            "\u001b[1m7094/7094\u001b[0m \u001b[32m━━━━━━━━━━━━━━━━━━━━\u001b[0m\u001b[37m\u001b[0m \u001b[1m51s\u001b[0m 7ms/step - accuracy: 0.9991 - loss: 0.0050 - val_accuracy: 0.9986 - val_loss: 0.0057\n",
            "Epoch 3/10\n",
            "\u001b[1m7094/7094\u001b[0m \u001b[32m━━━━━━━━━━━━━━━━━━━━\u001b[0m\u001b[37m\u001b[0m \u001b[1m50s\u001b[0m 7ms/step - accuracy: 0.9987 - loss: 0.0062 - val_accuracy: 0.9990 - val_loss: 0.0046\n",
            "Epoch 4/10\n",
            "\u001b[1m7094/7094\u001b[0m \u001b[32m━━━━━━━━━━━━━━━━━━━━\u001b[0m\u001b[37m\u001b[0m \u001b[1m84s\u001b[0m 7ms/step - accuracy: 0.9992 - loss: 0.0045 - val_accuracy: 0.9992 - val_loss: 0.0047\n",
            "Epoch 5/10\n",
            "\u001b[1m7094/7094\u001b[0m \u001b[32m━━━━━━━━━━━━━━━━━━━━\u001b[0m\u001b[37m\u001b[0m \u001b[1m80s\u001b[0m 7ms/step - accuracy: 0.9989 - loss: 0.0052 - val_accuracy: 0.9992 - val_loss: 0.0045\n",
            "Epoch 6/10\n",
            "\u001b[1m7094/7094\u001b[0m \u001b[32m━━━━━━━━━━━━━━━━━━━━\u001b[0m\u001b[37m\u001b[0m \u001b[1m88s\u001b[0m 8ms/step - accuracy: 0.9990 - loss: 0.0049 - val_accuracy: 0.9989 - val_loss: 0.0063\n",
            "Epoch 7/10\n",
            "\u001b[1m7094/7094\u001b[0m \u001b[32m━━━━━━━━━━━━━━━━━━━━\u001b[0m\u001b[37m\u001b[0m \u001b[1m76s\u001b[0m 7ms/step - accuracy: 0.9992 - loss: 0.0047 - val_accuracy: 0.9994 - val_loss: 0.0045\n",
            "Epoch 8/10\n",
            "\u001b[1m7094/7094\u001b[0m \u001b[32m━━━━━━━━━━━━━━━━━━━━\u001b[0m\u001b[37m\u001b[0m \u001b[1m52s\u001b[0m 7ms/step - accuracy: 0.9994 - loss: 0.0037 - val_accuracy: 0.9993 - val_loss: 0.0043\n",
            "Epoch 9/10\n",
            "\u001b[1m7094/7094\u001b[0m \u001b[32m━━━━━━━━━━━━━━━━━━━━\u001b[0m\u001b[37m\u001b[0m \u001b[1m89s\u001b[0m 8ms/step - accuracy: 0.9994 - loss: 0.0035 - val_accuracy: 0.9993 - val_loss: 0.0043\n",
            "Epoch 10/10\n",
            "\u001b[1m7094/7094\u001b[0m \u001b[32m━━━━━━━━━━━━━━━━━━━━\u001b[0m\u001b[37m\u001b[0m \u001b[1m74s\u001b[0m 7ms/step - accuracy: 0.9994 - loss: 0.0036 - val_accuracy: 0.9981 - val_loss: 0.0085\n"
          ]
        }
      ]
    },
    {
      "cell_type": "markdown",
      "source": [
        "Long Short-Term Memory (LSTM)\n",
        "\n",
        "LSTM networks are a special kind of RNN capable of learning long-term dependencies."
      ],
      "metadata": {
        "id": "qvwBRuyiNDF8"
      }
    },
    {
      "cell_type": "code",
      "source": [
        "lstm_model = Sequential([\n",
        "    LSTM(50, return_sequences=True, input_shape=(X_train_cc_scaled.shape[1], 1)),\n",
        "    LSTM(50),\n",
        "    Dense(1, activation='sigmoid')\n",
        "])\n",
        "\n",
        "lstm_model.compile(optimizer='adam', loss='binary_crossentropy', metrics=['accuracy'])\n",
        "\n",
        "lstm_history = lstm_model.fit(X_train_cc_cnn, y_train_cc,\n",
        "                              epochs=10, batch_size=32,\n",
        "                              validation_data=(X_test_cc_cnn, y_test_cc))\n"
      ],
      "metadata": {
        "colab": {
          "base_uri": "https://localhost:8080/"
        },
        "id": "hTWx47PvNIs1",
        "outputId": "6923299c-7fea-4bc3-b087-0db0b79ed2b2"
      },
      "execution_count": 30,
      "outputs": [
        {
          "output_type": "stream",
          "name": "stdout",
          "text": [
            "Epoch 1/10\n",
            "\u001b[1m7094/7094\u001b[0m \u001b[32m━━━━━━━━━━━━━━━━━━━━\u001b[0m\u001b[37m\u001b[0m \u001b[1m225s\u001b[0m 31ms/step - accuracy: 0.9980 - loss: 0.0165 - val_accuracy: 0.9994 - val_loss: 0.0039\n",
            "Epoch 2/10\n",
            "\u001b[1m7094/7094\u001b[0m \u001b[32m━━━━━━━━━━━━━━━━━━━━\u001b[0m\u001b[37m\u001b[0m \u001b[1m220s\u001b[0m 31ms/step - accuracy: 0.9993 - loss: 0.0041 - val_accuracy: 0.9991 - val_loss: 0.0060\n",
            "Epoch 3/10\n",
            "\u001b[1m7094/7094\u001b[0m \u001b[32m━━━━━━━━━━━━━━━━━━━━\u001b[0m\u001b[37m\u001b[0m \u001b[1m265s\u001b[0m 31ms/step - accuracy: 0.9993 - loss: 0.0042 - val_accuracy: 0.9991 - val_loss: 0.0045\n",
            "Epoch 4/10\n",
            "\u001b[1m7094/7094\u001b[0m \u001b[32m━━━━━━━━━━━━━━━━━━━━\u001b[0m\u001b[37m\u001b[0m \u001b[1m260s\u001b[0m 31ms/step - accuracy: 0.9993 - loss: 0.0035 - val_accuracy: 0.9994 - val_loss: 0.0037\n",
            "Epoch 5/10\n",
            "\u001b[1m7094/7094\u001b[0m \u001b[32m━━━━━━━━━━━━━━━━━━━━\u001b[0m\u001b[37m\u001b[0m \u001b[1m256s\u001b[0m 30ms/step - accuracy: 0.9994 - loss: 0.0033 - val_accuracy: 0.9992 - val_loss: 0.0045\n",
            "Epoch 6/10\n",
            "\u001b[1m7094/7094\u001b[0m \u001b[32m━━━━━━━━━━━━━━━━━━━━\u001b[0m\u001b[37m\u001b[0m \u001b[1m227s\u001b[0m 32ms/step - accuracy: 0.9994 - loss: 0.0033 - val_accuracy: 0.9994 - val_loss: 0.0039\n",
            "Epoch 7/10\n",
            "\u001b[1m7094/7094\u001b[0m \u001b[32m━━━━━━━━━━━━━━━━━━━━\u001b[0m\u001b[37m\u001b[0m \u001b[1m255s\u001b[0m 31ms/step - accuracy: 0.9993 - loss: 0.0035 - val_accuracy: 0.9994 - val_loss: 0.0039\n",
            "Epoch 8/10\n",
            "\u001b[1m7094/7094\u001b[0m \u001b[32m━━━━━━━━━━━━━━━━━━━━\u001b[0m\u001b[37m\u001b[0m \u001b[1m268s\u001b[0m 32ms/step - accuracy: 0.9995 - loss: 0.0031 - val_accuracy: 0.9992 - val_loss: 0.0044\n",
            "Epoch 9/10\n",
            "\u001b[1m7094/7094\u001b[0m \u001b[32m━━━━━━━━━━━━━━━━━━━━\u001b[0m\u001b[37m\u001b[0m \u001b[1m261s\u001b[0m 32ms/step - accuracy: 0.9994 - loss: 0.0027 - val_accuracy: 0.9994 - val_loss: 0.0042\n",
            "Epoch 10/10\n",
            "\u001b[1m7094/7094\u001b[0m \u001b[32m━━━━━━━━━━━━━━━━━━━━\u001b[0m\u001b[37m\u001b[0m \u001b[1m262s\u001b[0m 32ms/step - accuracy: 0.9995 - loss: 0.0029 - val_accuracy: 0.9993 - val_loss: 0.0043\n"
          ]
        }
      ]
    },
    {
      "cell_type": "markdown",
      "source": [
        "MLOps – Experiment Tracking with MLflow\n",
        "MLflow lets us log parameters, metrics, and even the trained model so that you can track your experiments over time."
      ],
      "metadata": {
        "id": "Q3jHEs8FW_Yy"
      }
    },
    {
      "cell_type": "code",
      "source": [
        "# Install MLflow if you haven't already (uncomment the next line if needed)\n",
        "# !pip install mlflow\n",
        "\n",
        "import mlflow\n",
        "import mlflow.sklearn\n",
        "\n",
        "# Set the experiment name (creates a new experiment if not already existing)\n",
        "mlflow.set_experiment(\"Fraud Detection Experiment\")\n",
        "\n",
        "# Example: Logging the Random Forest model experiment\n",
        "with mlflow.start_run():\n",
        "    # Log the model type as a parameter\n",
        "    mlflow.log_param(\"model\", \"RandomForest\")\n",
        "\n",
        "    # Calculate accuracy on the credit card test set\n",
        "    accuracy_rf = accuracy_score(y_test_cc, y_pred_rf)\n",
        "    mlflow.log_metric(\"accuracy\", accuracy_rf)\n",
        "\n",
        "    # Log the Random Forest model artifact\n",
        "    mlflow.sklearn.log_model(rf_model, \"random_forest_model\")\n",
        "\n",
        "    print(\"Logged Random Forest Model with accuracy:\", accuracy_rf)\n"
      ],
      "metadata": {
        "colab": {
          "base_uri": "https://localhost:8080/"
        },
        "id": "vzztfuxGXCxr",
        "outputId": "3a479a20-1f06-4175-da52-a64f35718a26"
      },
      "execution_count": 31,
      "outputs": [
        {
          "output_type": "stream",
          "name": "stderr",
          "text": [
            "2025/02/09 20:18:14 INFO mlflow.tracking.fluent: Experiment with name 'Fraud Detection Experiment' does not exist. Creating a new experiment.\n",
            "\u001b[31m2025/02/09 20:18:28 WARNING mlflow.models.model: Model logged without a signature and input example. Please set `input_example` parameter when logging the model to auto infer the model signature.\u001b[0m\n"
          ]
        },
        {
          "output_type": "stream",
          "name": "stdout",
          "text": [
            "Logged Random Forest Model with accuracy: 0.9995065731505305\n"
          ]
        }
      ]
    },
    {
      "cell_type": "code",
      "source": [
        "import json\n",
        "y_pred_lr = log_reg.predict(X_test_cc_scaled)\n",
        "\n",
        "# Store model performance\n",
        "experiment_results = {\n",
        "    \"Logistic Regression\": accuracy_score(y_test_cc, y_pred_lr),\n",
        "    \"Decision Tree\": accuracy_score(y_test_cc, y_pred_dt),\n",
        "    \"Random Forest\": accuracy_score(y_test_cc, y_pred_rf),\n",
        "    \"XGBoost\": accuracy_score(y_test_cc, y_pred_xgb),\n",
        "}\n",
        "# Save JSON\n",
        "with open(\"experiment_results.json\", \"w\") as f:\n",
        "    json.dump(experiment_results, f)\n"
      ],
      "metadata": {
        "colab": {
          "base_uri": "https://localhost:8080/",
          "height": 180
        },
        "id": "Jk35nQRVaQpj",
        "outputId": "645e8e39-6f07-4a0b-a7fb-3f20b6b011f2"
      },
      "execution_count": 42,
      "outputs": [
        {
          "output_type": "error",
          "ename": "NameError",
          "evalue": "name 'files' is not defined",
          "traceback": [
            "\u001b[0;31m---------------------------------------------------------------------------\u001b[0m",
            "\u001b[0;31mNameError\u001b[0m                                 Traceback (most recent call last)",
            "\u001b[0;32m<ipython-input-42-8c94cdcf253a>\u001b[0m in \u001b[0;36m<cell line: 0>\u001b[0;34m()\u001b[0m\n\u001b[1;32m     14\u001b[0m \u001b[0;34m\u001b[0m\u001b[0m\n\u001b[1;32m     15\u001b[0m \u001b[0;31m# Download JSON file\u001b[0m\u001b[0;34m\u001b[0m\u001b[0;34m\u001b[0m\u001b[0m\n\u001b[0;32m---> 16\u001b[0;31m \u001b[0mfiles\u001b[0m\u001b[0;34m.\u001b[0m\u001b[0mdownload\u001b[0m\u001b[0;34m(\u001b[0m\u001b[0;34m\"experiment_results.json\"\u001b[0m\u001b[0;34m)\u001b[0m\u001b[0;34m\u001b[0m\u001b[0;34m\u001b[0m\u001b[0m\n\u001b[0m",
            "\u001b[0;31mNameError\u001b[0m: name 'files' is not defined"
          ]
        }
      ]
    },
    {
      "cell_type": "markdown",
      "source": [
        "Saving the Model\n",
        "\n"
      ],
      "metadata": {
        "id": "VU7fUeYaYKiX"
      }
    },
    {
      "cell_type": "code",
      "source": [
        "import joblib\n",
        "\n",
        "# Assume rf_model is your trained Random Forest model\n",
        "joblib.dump(rf_model, 'random_forest_model.pkl')\n"
      ],
      "metadata": {
        "colab": {
          "base_uri": "https://localhost:8080/"
        },
        "id": "akPXiTDrYQoz",
        "outputId": "61154e1b-2397-49b3-fb19-d00aefd9673a"
      },
      "execution_count": 32,
      "outputs": [
        {
          "output_type": "execute_result",
          "data": {
            "text/plain": [
              "['random_forest_model.pkl']"
            ]
          },
          "metadata": {},
          "execution_count": 32
        }
      ]
    },
    {
      "cell_type": "markdown",
      "source": [
        "Save & Download Processed Data"
      ],
      "metadata": {
        "id": "MlSgGlkjZrCM"
      }
    },
    {
      "cell_type": "code",
      "source": [
        "import pandas as pd\n",
        "\n",
        "# Save credit card fraud datasets\n",
        "X_train_cc.to_csv(\"X_train_credit.csv\", index=False)\n",
        "X_test_cc.to_csv(\"X_test_credit.csv\", index=False)\n",
        "y_train_cc.to_csv(\"y_train_credit.csv\", index=False)\n",
        "y_test_cc.to_csv(\"y_test_credit.csv\", index=False)\n",
        "\n",
        "# Save general fraud datasets\n",
        "X_train_fraud.to_csv(\"X_train_fraud.csv\", index=False)\n",
        "X_test_fraud.to_csv(\"X_test_fraud.csv\", index=False)\n",
        "y_train_fraud.to_csv(\"y_train_fraud.csv\", index=False)\n",
        "y_test_fraud.to_csv(\"y_test_fraud.csv\", index=False)\n"
      ],
      "metadata": {
        "id": "uAu56ztJZtue"
      },
      "execution_count": 44,
      "outputs": []
    },
    {
      "cell_type": "markdown",
      "source": [],
      "metadata": {
        "id": "eMBCbBUebmuy"
      }
    },
    {
      "cell_type": "markdown",
      "source": [
        " Save & Download ML Models (Sklearn-based)"
      ],
      "metadata": {
        "id": "fvwaw9JFbq2S"
      }
    },
    {
      "cell_type": "code",
      "source": [
        "import joblib\n",
        "\n",
        "# Save Logistic Regression model\n",
        "joblib.dump(log_reg, \"logistic_regression.pkl\")\n",
        "joblib.dump(dt_model, \"decision_tree.pkl\")\n",
        "joblib.dump(rf_model, \"random_forest.pkl\")\n",
        "joblib.dump(xgb_model, \"xgboost.pkl\")\n",
        "\n",
        "\n"
      ],
      "metadata": {
        "colab": {
          "base_uri": "https://localhost:8080/"
        },
        "id": "mnMgTOmzaB-n",
        "outputId": "fb372754-5ceb-4803-9290-7ca2d0d5ce99"
      },
      "execution_count": 48,
      "outputs": [
        {
          "output_type": "execute_result",
          "data": {
            "text/plain": [
              "['xgboost.pkl']"
            ]
          },
          "metadata": {},
          "execution_count": 48
        }
      ]
    },
    {
      "cell_type": "markdown",
      "source": [
        "Save & Download Deep Learning Models (TensorFlow/Keras)"
      ],
      "metadata": {
        "id": "1gQyT8PYaHOB"
      }
    },
    {
      "cell_type": "code",
      "source": [
        "# Save MLP Model\n",
        "mlp_model.save(\"mlp_model.h5\")\n",
        "\n",
        "# Save CNN Model\n",
        "cnn_model.save(\"cnn_model.h5\")\n",
        "\n",
        "# Save RNN Model\n",
        "rnn_model.save(\"rnn_model.h5\")\n",
        "\n",
        "# Save LSTM Model\n",
        "lstm_model.save(\"lstm_model.h5\")\n",
        "\n"
      ],
      "metadata": {
        "colab": {
          "base_uri": "https://localhost:8080/"
        },
        "id": "aHaSZG8raIJ-",
        "outputId": "98d435a5-490a-421a-f9c6-ad7c6275c261"
      },
      "execution_count": 50,
      "outputs": [
        {
          "output_type": "stream",
          "name": "stderr",
          "text": [
            "WARNING:absl:You are saving your model as an HDF5 file via `model.save()` or `keras.saving.save_model(model)`. This file format is considered legacy. We recommend using instead the native Keras format, e.g. `model.save('my_model.keras')` or `keras.saving.save_model(model, 'my_model.keras')`. \n",
            "WARNING:absl:You are saving your model as an HDF5 file via `model.save()` or `keras.saving.save_model(model)`. This file format is considered legacy. We recommend using instead the native Keras format, e.g. `model.save('my_model.keras')` or `keras.saving.save_model(model, 'my_model.keras')`. \n",
            "WARNING:absl:You are saving your model as an HDF5 file via `model.save()` or `keras.saving.save_model(model)`. This file format is considered legacy. We recommend using instead the native Keras format, e.g. `model.save('my_model.keras')` or `keras.saving.save_model(model, 'my_model.keras')`. \n",
            "WARNING:absl:You are saving your model as an HDF5 file via `model.save()` or `keras.saving.save_model(model)`. This file format is considered legacy. We recommend using instead the native Keras format, e.g. `model.save('my_model.keras')` or `keras.saving.save_model(model, 'my_model.keras')`. \n"
          ]
        }
      ]
    }
  ]
}